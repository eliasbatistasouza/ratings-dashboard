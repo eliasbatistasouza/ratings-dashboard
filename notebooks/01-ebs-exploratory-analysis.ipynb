{
 "cells": [
  {
   "attachments": {},
   "cell_type": "markdown",
   "metadata": {},
   "source": [
    "# Imports"
   ]
  },
  {
   "cell_type": "code",
   "execution_count": 2,
   "metadata": {},
   "outputs": [],
   "source": [
    "import pandas as pd"
   ]
  },
  {
   "attachments": {},
   "cell_type": "markdown",
   "metadata": {},
   "source": [
    "# Helper Variables"
   ]
  },
  {
   "cell_type": "code",
   "execution_count": 3,
   "metadata": {},
   "outputs": [],
   "source": [
    "COUNTRIES = {\n",
    "    1: \"India\",\n",
    "    14: \"Australia\",\n",
    "    30: \"Brazil\",\n",
    "    37: \"Canada\",\n",
    "    94: \"Indonesia\",\n",
    "    148: \"New Zeland\",\n",
    "    162: \"Philippines\",\n",
    "    166: \"Qatar\",\n",
    "    184: \"Singapure\",\n",
    "    189: \"South Africa\",\n",
    "    191: \"Sri Lanka\",\n",
    "    208: \"Turkey\",\n",
    "    214: \"United Arab Emirates\",\n",
    "    215: \"England\",\n",
    "    216: \"United States of America\",\n",
    "}\n",
    "\n",
    "\n",
    "COLORS = {\n",
    "    \"3F7E00\": \"darkgreen\",\n",
    "    \"5BA829\": \"green\",\n",
    "    \"9ACD32\": \"lightgreen\",\n",
    "    \"CDD614\": \"orange\",\n",
    "    \"FFBA00\": \"red\",\n",
    "    \"CBCBC8\": \"darkred\",\n",
    "    \"FF7800\": \"darkred\",\n",
    "}"
   ]
  },
  {
   "attachments": {},
   "cell_type": "markdown",
   "metadata": {},
   "source": [
    "## Analyzing Dataset Info"
   ]
  },
  {
   "cell_type": "code",
   "execution_count": 4,
   "metadata": {},
   "outputs": [
    {
     "name": "stdout",
     "output_type": "stream",
     "text": [
      "<class 'pandas.core.frame.DataFrame'>\n",
      "RangeIndex: 7527 entries, 0 to 7526\n",
      "Data columns (total 21 columns):\n",
      " #   Column                Non-Null Count  Dtype  \n",
      "---  ------                --------------  -----  \n",
      " 0   Restaurant ID         7527 non-null   int64  \n",
      " 1   Restaurant Name       7527 non-null   object \n",
      " 2   Country Code          7527 non-null   int64  \n",
      " 3   City                  7527 non-null   object \n",
      " 4   Address               7527 non-null   object \n",
      " 5   Locality              7527 non-null   object \n",
      " 6   Locality Verbose      7527 non-null   object \n",
      " 7   Longitude             7527 non-null   float64\n",
      " 8   Latitude              7527 non-null   float64\n",
      " 9   Cuisines              7512 non-null   object \n",
      " 10  Average Cost for two  7527 non-null   int64  \n",
      " 11  Currency              7527 non-null   object \n",
      " 12  Has Table booking     7527 non-null   int64  \n",
      " 13  Has Online delivery   7527 non-null   int64  \n",
      " 14  Is delivering now     7527 non-null   int64  \n",
      " 15  Switch to order menu  7527 non-null   int64  \n",
      " 16  Price range           7527 non-null   int64  \n",
      " 17  Aggregate rating      7527 non-null   float64\n",
      " 18  Rating color          7527 non-null   object \n",
      " 19  Rating text           7527 non-null   object \n",
      " 20  Votes                 7527 non-null   int64  \n",
      "dtypes: float64(3), int64(9), object(9)\n",
      "memory usage: 1.2+ MB\n"
     ]
    }
   ],
   "source": [
    "df_raw = pd.read_csv('../data/raw/zomato.csv')\n",
    "df_raw.info()"
   ]
  },
  {
   "cell_type": "code",
   "execution_count": 5,
   "metadata": {},
   "outputs": [
    {
     "data": {
      "text/html": [
       "<div>\n",
       "<style scoped>\n",
       "    .dataframe tbody tr th:only-of-type {\n",
       "        vertical-align: middle;\n",
       "    }\n",
       "\n",
       "    .dataframe tbody tr th {\n",
       "        vertical-align: top;\n",
       "    }\n",
       "\n",
       "    .dataframe thead th {\n",
       "        text-align: right;\n",
       "    }\n",
       "</style>\n",
       "<table border=\"1\" class=\"dataframe\">\n",
       "  <thead>\n",
       "    <tr style=\"text-align: right;\">\n",
       "      <th></th>\n",
       "      <th>Restaurant ID</th>\n",
       "      <th>Restaurant Name</th>\n",
       "      <th>Country Code</th>\n",
       "      <th>City</th>\n",
       "      <th>Address</th>\n",
       "      <th>Locality</th>\n",
       "      <th>Locality Verbose</th>\n",
       "      <th>Longitude</th>\n",
       "      <th>Latitude</th>\n",
       "      <th>Cuisines</th>\n",
       "      <th>...</th>\n",
       "      <th>Currency</th>\n",
       "      <th>Has Table booking</th>\n",
       "      <th>Has Online delivery</th>\n",
       "      <th>Is delivering now</th>\n",
       "      <th>Switch to order menu</th>\n",
       "      <th>Price range</th>\n",
       "      <th>Aggregate rating</th>\n",
       "      <th>Rating color</th>\n",
       "      <th>Rating text</th>\n",
       "      <th>Votes</th>\n",
       "    </tr>\n",
       "  </thead>\n",
       "  <tbody>\n",
       "    <tr>\n",
       "      <th>0</th>\n",
       "      <td>6310675</td>\n",
       "      <td>Mama Lou's Italian Kitchen</td>\n",
       "      <td>162</td>\n",
       "      <td>Las Piñas City</td>\n",
       "      <td>Block 1, Lot 36, Tropical Avenue Corner Tropic...</td>\n",
       "      <td>BF International</td>\n",
       "      <td>BF International, Las Piñas City</td>\n",
       "      <td>121.009787</td>\n",
       "      <td>14.447615</td>\n",
       "      <td>Italian</td>\n",
       "      <td>...</td>\n",
       "      <td>Botswana Pula(P)</td>\n",
       "      <td>1</td>\n",
       "      <td>0</td>\n",
       "      <td>0</td>\n",
       "      <td>0</td>\n",
       "      <td>3</td>\n",
       "      <td>4.6</td>\n",
       "      <td>3F7E00</td>\n",
       "      <td>Excellent</td>\n",
       "      <td>619</td>\n",
       "    </tr>\n",
       "    <tr>\n",
       "      <th>1</th>\n",
       "      <td>6310675</td>\n",
       "      <td>Mama Lou's Italian Kitchen</td>\n",
       "      <td>162</td>\n",
       "      <td>Las Piñas City</td>\n",
       "      <td>Block 1, Lot 36, Tropical Avenue Corner Tropic...</td>\n",
       "      <td>BF International</td>\n",
       "      <td>BF International, Las Piñas City</td>\n",
       "      <td>121.009787</td>\n",
       "      <td>14.447615</td>\n",
       "      <td>Italian</td>\n",
       "      <td>...</td>\n",
       "      <td>Botswana Pula(P)</td>\n",
       "      <td>1</td>\n",
       "      <td>0</td>\n",
       "      <td>0</td>\n",
       "      <td>0</td>\n",
       "      <td>3</td>\n",
       "      <td>4.6</td>\n",
       "      <td>3F7E00</td>\n",
       "      <td>Excellent</td>\n",
       "      <td>619</td>\n",
       "    </tr>\n",
       "    <tr>\n",
       "      <th>2</th>\n",
       "      <td>6314542</td>\n",
       "      <td>Blackbird</td>\n",
       "      <td>162</td>\n",
       "      <td>Makati City</td>\n",
       "      <td>Nielson Tower, Ayala Triangle Gardens, Salcedo...</td>\n",
       "      <td>Ayala Triangle Gardens, Salcedo Village, Makat...</td>\n",
       "      <td>Ayala Triangle Gardens, Salcedo Village, Makat...</td>\n",
       "      <td>121.024562</td>\n",
       "      <td>14.556042</td>\n",
       "      <td>European, Asian</td>\n",
       "      <td>...</td>\n",
       "      <td>Botswana Pula(P)</td>\n",
       "      <td>0</td>\n",
       "      <td>0</td>\n",
       "      <td>0</td>\n",
       "      <td>0</td>\n",
       "      <td>4</td>\n",
       "      <td>4.7</td>\n",
       "      <td>3F7E00</td>\n",
       "      <td>Excellent</td>\n",
       "      <td>469</td>\n",
       "    </tr>\n",
       "    <tr>\n",
       "      <th>3</th>\n",
       "      <td>6301293</td>\n",
       "      <td>Banapple</td>\n",
       "      <td>162</td>\n",
       "      <td>Makati City</td>\n",
       "      <td>Ayala Triangle Gardens, Salcedo Village, Makat...</td>\n",
       "      <td>Ayala Triangle Gardens, Salcedo Village, Makat...</td>\n",
       "      <td>Ayala Triangle Gardens, Salcedo Village, Makat...</td>\n",
       "      <td>121.023171</td>\n",
       "      <td>14.556196</td>\n",
       "      <td>Filipino, American, Italian, Bakery</td>\n",
       "      <td>...</td>\n",
       "      <td>Botswana Pula(P)</td>\n",
       "      <td>0</td>\n",
       "      <td>0</td>\n",
       "      <td>0</td>\n",
       "      <td>0</td>\n",
       "      <td>3</td>\n",
       "      <td>4.4</td>\n",
       "      <td>5BA829</td>\n",
       "      <td>Very Good</td>\n",
       "      <td>867</td>\n",
       "    </tr>\n",
       "    <tr>\n",
       "      <th>4</th>\n",
       "      <td>6315689</td>\n",
       "      <td>Bad Bird</td>\n",
       "      <td>162</td>\n",
       "      <td>Makati City</td>\n",
       "      <td>Hole In The Wall, Floor 4, Century City Mall, ...</td>\n",
       "      <td>Century City Mall, Poblacion, Makati City</td>\n",
       "      <td>Century City Mall, Poblacion, Makati City, Mak...</td>\n",
       "      <td>121.027708</td>\n",
       "      <td>14.565899</td>\n",
       "      <td>American</td>\n",
       "      <td>...</td>\n",
       "      <td>Botswana Pula(P)</td>\n",
       "      <td>0</td>\n",
       "      <td>0</td>\n",
       "      <td>0</td>\n",
       "      <td>0</td>\n",
       "      <td>3</td>\n",
       "      <td>4.4</td>\n",
       "      <td>5BA829</td>\n",
       "      <td>Very Good</td>\n",
       "      <td>858</td>\n",
       "    </tr>\n",
       "  </tbody>\n",
       "</table>\n",
       "<p>5 rows × 21 columns</p>\n",
       "</div>"
      ],
      "text/plain": [
       "   Restaurant ID             Restaurant Name  Country Code            City   \n",
       "0        6310675  Mama Lou's Italian Kitchen           162  Las Piñas City  \\\n",
       "1        6310675  Mama Lou's Italian Kitchen           162  Las Piñas City   \n",
       "2        6314542                   Blackbird           162     Makati City   \n",
       "3        6301293                    Banapple           162     Makati City   \n",
       "4        6315689                    Bad Bird           162     Makati City   \n",
       "\n",
       "                                             Address   \n",
       "0  Block 1, Lot 36, Tropical Avenue Corner Tropic...  \\\n",
       "1  Block 1, Lot 36, Tropical Avenue Corner Tropic...   \n",
       "2  Nielson Tower, Ayala Triangle Gardens, Salcedo...   \n",
       "3  Ayala Triangle Gardens, Salcedo Village, Makat...   \n",
       "4  Hole In The Wall, Floor 4, Century City Mall, ...   \n",
       "\n",
       "                                            Locality   \n",
       "0                                   BF International  \\\n",
       "1                                   BF International   \n",
       "2  Ayala Triangle Gardens, Salcedo Village, Makat...   \n",
       "3  Ayala Triangle Gardens, Salcedo Village, Makat...   \n",
       "4          Century City Mall, Poblacion, Makati City   \n",
       "\n",
       "                                    Locality Verbose   Longitude   Latitude   \n",
       "0                   BF International, Las Piñas City  121.009787  14.447615  \\\n",
       "1                   BF International, Las Piñas City  121.009787  14.447615   \n",
       "2  Ayala Triangle Gardens, Salcedo Village, Makat...  121.024562  14.556042   \n",
       "3  Ayala Triangle Gardens, Salcedo Village, Makat...  121.023171  14.556196   \n",
       "4  Century City Mall, Poblacion, Makati City, Mak...  121.027708  14.565899   \n",
       "\n",
       "                              Cuisines  ...          Currency   \n",
       "0                              Italian  ...  Botswana Pula(P)  \\\n",
       "1                              Italian  ...  Botswana Pula(P)   \n",
       "2                      European, Asian  ...  Botswana Pula(P)   \n",
       "3  Filipino, American, Italian, Bakery  ...  Botswana Pula(P)   \n",
       "4                             American  ...  Botswana Pula(P)   \n",
       "\n",
       "  Has Table booking  Has Online delivery  Is delivering now   \n",
       "0                 1                    0                  0  \\\n",
       "1                 1                    0                  0   \n",
       "2                 0                    0                  0   \n",
       "3                 0                    0                  0   \n",
       "4                 0                    0                  0   \n",
       "\n",
       "   Switch to order menu  Price range  Aggregate rating  Rating color   \n",
       "0                     0            3               4.6        3F7E00  \\\n",
       "1                     0            3               4.6        3F7E00   \n",
       "2                     0            4               4.7        3F7E00   \n",
       "3                     0            3               4.4        5BA829   \n",
       "4                     0            3               4.4        5BA829   \n",
       "\n",
       "  Rating text Votes  \n",
       "0   Excellent   619  \n",
       "1   Excellent   619  \n",
       "2   Excellent   469  \n",
       "3   Very Good   867  \n",
       "4   Very Good   858  \n",
       "\n",
       "[5 rows x 21 columns]"
      ]
     },
     "execution_count": 5,
     "metadata": {},
     "output_type": "execute_result"
    }
   ],
   "source": [
    "df_raw.head()"
   ]
  },
  {
   "attachments": {},
   "cell_type": "markdown",
   "metadata": {},
   "source": [
    "# Cleaning Data"
   ]
  },
  {
   "cell_type": "code",
   "execution_count": 6,
   "metadata": {},
   "outputs": [
    {
     "data": {
      "text/plain": [
       "array([nan, nan, nan, nan, nan, nan, nan, nan, nan, nan, nan, nan, nan,\n",
       "       nan, nan], dtype=object)"
      ]
     },
     "execution_count": 6,
     "metadata": {},
     "output_type": "execute_result"
    }
   ],
   "source": [
    "rows = df_raw['Cuisines'].isnull()\n",
    "df_null = df_raw.loc[rows,:]\n",
    "df_null['Cuisines'].values"
   ]
  },
  {
   "cell_type": "code",
   "execution_count": 7,
   "metadata": {},
   "outputs": [
    {
     "data": {
      "text/plain": [
       "Restaurant ID           0\n",
       "Restaurant Name         0\n",
       "Country Code            0\n",
       "City                    0\n",
       "Address                 0\n",
       "Locality                0\n",
       "Locality Verbose        0\n",
       "Longitude               0\n",
       "Latitude                0\n",
       "Cuisines                0\n",
       "Average Cost for two    0\n",
       "Currency                0\n",
       "Has Table booking       0\n",
       "Has Online delivery     0\n",
       "Is delivering now       0\n",
       "Switch to order menu    0\n",
       "Price range             0\n",
       "Aggregate rating        0\n",
       "Rating color            0\n",
       "Rating text             0\n",
       "Votes                   0\n",
       "dtype: int64"
      ]
     },
     "execution_count": 7,
     "metadata": {},
     "output_type": "execute_result"
    }
   ],
   "source": [
    "df_raw = df_raw.dropna()\n",
    "df_raw.isna().sum()"
   ]
  },
  {
   "cell_type": "code",
   "execution_count": 8,
   "metadata": {},
   "outputs": [
    {
     "data": {
      "text/plain": [
       "array([0], dtype=int64)"
      ]
     },
     "execution_count": 8,
     "metadata": {},
     "output_type": "execute_result"
    }
   ],
   "source": [
    "df_raw.iloc[:,15].unique()"
   ]
  },
  {
   "cell_type": "code",
   "execution_count": 9,
   "metadata": {},
   "outputs": [
    {
     "name": "stdout",
     "output_type": "stream",
     "text": [
      "<class 'pandas.core.frame.DataFrame'>\n",
      "Index: 7512 entries, 0 to 7526\n",
      "Data columns (total 20 columns):\n",
      " #   Column                Non-Null Count  Dtype  \n",
      "---  ------                --------------  -----  \n",
      " 0   Restaurant ID         7512 non-null   int64  \n",
      " 1   Restaurant Name       7512 non-null   object \n",
      " 2   Country Code          7512 non-null   int64  \n",
      " 3   City                  7512 non-null   object \n",
      " 4   Address               7512 non-null   object \n",
      " 5   Locality              7512 non-null   object \n",
      " 6   Locality Verbose      7512 non-null   object \n",
      " 7   Longitude             7512 non-null   float64\n",
      " 8   Latitude              7512 non-null   float64\n",
      " 9   Cuisines              7512 non-null   object \n",
      " 10  Average Cost for two  7512 non-null   int64  \n",
      " 11  Currency              7512 non-null   object \n",
      " 12  Has Table booking     7512 non-null   int64  \n",
      " 13  Has Online delivery   7512 non-null   int64  \n",
      " 14  Is delivering now     7512 non-null   int64  \n",
      " 15  Price range           7512 non-null   int64  \n",
      " 16  Aggregate rating      7512 non-null   float64\n",
      " 17  Rating color          7512 non-null   object \n",
      " 18  Rating text           7512 non-null   object \n",
      " 19  Votes                 7512 non-null   int64  \n",
      "dtypes: float64(3), int64(8), object(9)\n",
      "memory usage: 1.2+ MB\n"
     ]
    }
   ],
   "source": [
    "df_raw = df_raw.drop(['Switch to order menu'], axis=1)\n",
    "df_raw.info()"
   ]
  },
  {
   "cell_type": "code",
   "execution_count": 10,
   "metadata": {},
   "outputs": [],
   "source": [
    "df_raw = df_raw.drop_duplicates()"
   ]
  },
  {
   "attachments": {},
   "cell_type": "markdown",
   "metadata": {},
   "source": [
    "# Transforming Data"
   ]
  },
  {
   "attachments": {},
   "cell_type": "markdown",
   "metadata": {},
   "source": [
    "### Renaming columns"
   ]
  },
  {
   "cell_type": "code",
   "execution_count": 11,
   "metadata": {},
   "outputs": [
    {
     "data": {
      "text/plain": [
       "Index(['restaurant_id', 'restaurant_name', 'country_code', 'city', 'address',\n",
       "       'locality', 'locality_verbose', 'longitude', 'latitude', 'cuisines',\n",
       "       'average_cost_for_two', 'currency', 'has_table_booking',\n",
       "       'has_online_delivery', 'is_delivering_now', 'price_range',\n",
       "       'aggregate_rating', 'rating_color', 'rating_text', 'votes'],\n",
       "      dtype='object')"
      ]
     },
     "execution_count": 11,
     "metadata": {},
     "output_type": "execute_result"
    }
   ],
   "source": [
    "cols = list(df_raw.columns)\n",
    "new_cols = []\n",
    "\n",
    "for col in cols:\n",
    "    col = col.lower()\n",
    "    col = col.replace(\" \",\"_\")\n",
    "    new_cols.append(col)\n",
    "\n",
    "df_raw.columns = new_cols\n",
    "\n",
    "df_raw.columns"
   ]
  },
  {
   "attachments": {},
   "cell_type": "markdown",
   "metadata": {},
   "source": [
    "### Adding color and country names"
   ]
  },
  {
   "cell_type": "code",
   "execution_count": 12,
   "metadata": {},
   "outputs": [
    {
     "data": {
      "text/html": [
       "<div>\n",
       "<style scoped>\n",
       "    .dataframe tbody tr th:only-of-type {\n",
       "        vertical-align: middle;\n",
       "    }\n",
       "\n",
       "    .dataframe tbody tr th {\n",
       "        vertical-align: top;\n",
       "    }\n",
       "\n",
       "    .dataframe thead th {\n",
       "        text-align: right;\n",
       "    }\n",
       "</style>\n",
       "<table border=\"1\" class=\"dataframe\">\n",
       "  <thead>\n",
       "    <tr style=\"text-align: right;\">\n",
       "      <th></th>\n",
       "      <th>restaurant_id</th>\n",
       "      <th>restaurant_name</th>\n",
       "      <th>country_code</th>\n",
       "      <th>city</th>\n",
       "      <th>address</th>\n",
       "      <th>locality</th>\n",
       "      <th>locality_verbose</th>\n",
       "      <th>longitude</th>\n",
       "      <th>latitude</th>\n",
       "      <th>cuisines</th>\n",
       "      <th>...</th>\n",
       "      <th>has_table_booking</th>\n",
       "      <th>has_online_delivery</th>\n",
       "      <th>is_delivering_now</th>\n",
       "      <th>price_range</th>\n",
       "      <th>aggregate_rating</th>\n",
       "      <th>rating_color</th>\n",
       "      <th>rating_text</th>\n",
       "      <th>votes</th>\n",
       "      <th>color_name</th>\n",
       "      <th>country</th>\n",
       "    </tr>\n",
       "  </thead>\n",
       "  <tbody>\n",
       "    <tr>\n",
       "      <th>74</th>\n",
       "      <td>18142958</td>\n",
       "      <td>Single Origin</td>\n",
       "      <td>162</td>\n",
       "      <td>Taguig City</td>\n",
       "      <td>C3, Bonifacio High Street Central, 7th Avenue,...</td>\n",
       "      <td>BHS Central Square, Bonifacio Global City, Tag...</td>\n",
       "      <td>BHS Central Square, Bonifacio Global City, Tag...</td>\n",
       "      <td>121.049289</td>\n",
       "      <td>14.551493</td>\n",
       "      <td>American, European</td>\n",
       "      <td>...</td>\n",
       "      <td>1</td>\n",
       "      <td>0</td>\n",
       "      <td>0</td>\n",
       "      <td>4</td>\n",
       "      <td>4.3</td>\n",
       "      <td>5BA829</td>\n",
       "      <td>Very Good</td>\n",
       "      <td>560</td>\n",
       "      <td>green</td>\n",
       "      <td>Philippines</td>\n",
       "    </tr>\n",
       "  </tbody>\n",
       "</table>\n",
       "<p>1 rows × 22 columns</p>\n",
       "</div>"
      ],
      "text/plain": [
       "    restaurant_id restaurant_name  country_code         city   \n",
       "74       18142958   Single Origin           162  Taguig City  \\\n",
       "\n",
       "                                              address   \n",
       "74  C3, Bonifacio High Street Central, 7th Avenue,...  \\\n",
       "\n",
       "                                             locality   \n",
       "74  BHS Central Square, Bonifacio Global City, Tag...  \\\n",
       "\n",
       "                                     locality_verbose   longitude   latitude   \n",
       "74  BHS Central Square, Bonifacio Global City, Tag...  121.049289  14.551493  \\\n",
       "\n",
       "              cuisines  ...  has_table_booking has_online_delivery   \n",
       "74  American, European  ...                  1                   0  \\\n",
       "\n",
       "    is_delivering_now  price_range  aggregate_rating  rating_color   \n",
       "74                  0            4               4.3        5BA829  \\\n",
       "\n",
       "    rating_text votes color_name      country  \n",
       "74    Very Good   560      green  Philippines  \n",
       "\n",
       "[1 rows x 22 columns]"
      ]
     },
     "execution_count": 12,
     "metadata": {},
     "output_type": "execute_result"
    }
   ],
   "source": [
    "df_raw['color_name'] = df_raw['rating_color'].apply(lambda x: COLORS[x])\n",
    "df_raw['country'] = df_raw['country_code'].apply(lambda x: COUNTRIES[x])\n",
    "df_raw.sample(1)"
   ]
  },
  {
   "attachments": {},
   "cell_type": "markdown",
   "metadata": {},
   "source": [
    "### Adding price types"
   ]
  },
  {
   "cell_type": "code",
   "execution_count": 13,
   "metadata": {},
   "outputs": [
    {
     "data": {
      "text/html": [
       "<div>\n",
       "<style scoped>\n",
       "    .dataframe tbody tr th:only-of-type {\n",
       "        vertical-align: middle;\n",
       "    }\n",
       "\n",
       "    .dataframe tbody tr th {\n",
       "        vertical-align: top;\n",
       "    }\n",
       "\n",
       "    .dataframe thead th {\n",
       "        text-align: right;\n",
       "    }\n",
       "</style>\n",
       "<table border=\"1\" class=\"dataframe\">\n",
       "  <thead>\n",
       "    <tr style=\"text-align: right;\">\n",
       "      <th></th>\n",
       "      <th>restaurant_id</th>\n",
       "      <th>restaurant_name</th>\n",
       "      <th>country_code</th>\n",
       "      <th>city</th>\n",
       "      <th>address</th>\n",
       "      <th>locality</th>\n",
       "      <th>locality_verbose</th>\n",
       "      <th>longitude</th>\n",
       "      <th>latitude</th>\n",
       "      <th>cuisines</th>\n",
       "      <th>...</th>\n",
       "      <th>has_online_delivery</th>\n",
       "      <th>is_delivering_now</th>\n",
       "      <th>price_range</th>\n",
       "      <th>aggregate_rating</th>\n",
       "      <th>rating_color</th>\n",
       "      <th>rating_text</th>\n",
       "      <th>votes</th>\n",
       "      <th>color_name</th>\n",
       "      <th>country</th>\n",
       "      <th>price_type</th>\n",
       "    </tr>\n",
       "  </thead>\n",
       "  <tbody>\n",
       "    <tr>\n",
       "      <th>5437</th>\n",
       "      <td>10213</td>\n",
       "      <td>Malaka Spice</td>\n",
       "      <td>1</td>\n",
       "      <td>Pune</td>\n",
       "      <td>Lane 5, Opposite Oxford Properties, North Main...</td>\n",
       "      <td>Koregaon Park</td>\n",
       "      <td>Koregaon Park, Pune</td>\n",
       "      <td>73.897391</td>\n",
       "      <td>18.537534</td>\n",
       "      <td>Malaysian, Thai, Vietnamese, Japanese, Korean,...</td>\n",
       "      <td>...</td>\n",
       "      <td>1</td>\n",
       "      <td>0</td>\n",
       "      <td>3</td>\n",
       "      <td>4.6</td>\n",
       "      <td>3F7E00</td>\n",
       "      <td>Excellent</td>\n",
       "      <td>4623</td>\n",
       "      <td>darkgreen</td>\n",
       "      <td>India</td>\n",
       "      <td>expensive</td>\n",
       "    </tr>\n",
       "  </tbody>\n",
       "</table>\n",
       "<p>1 rows × 23 columns</p>\n",
       "</div>"
      ],
      "text/plain": [
       "      restaurant_id restaurant_name  country_code  city   \n",
       "5437          10213    Malaka Spice             1  Pune  \\\n",
       "\n",
       "                                                address       locality   \n",
       "5437  Lane 5, Opposite Oxford Properties, North Main...  Koregaon Park  \\\n",
       "\n",
       "         locality_verbose  longitude   latitude   \n",
       "5437  Koregaon Park, Pune  73.897391  18.537534  \\\n",
       "\n",
       "                                               cuisines  ...   \n",
       "5437  Malaysian, Thai, Vietnamese, Japanese, Korean,...  ...  \\\n",
       "\n",
       "      has_online_delivery is_delivering_now  price_range  aggregate_rating   \n",
       "5437                    1                 0            3               4.6  \\\n",
       "\n",
       "      rating_color  rating_text  votes color_name country  price_type  \n",
       "5437        3F7E00    Excellent   4623  darkgreen   India   expensive  \n",
       "\n",
       "[1 rows x 23 columns]"
      ]
     },
     "execution_count": 13,
     "metadata": {},
     "output_type": "execute_result"
    }
   ],
   "source": [
    "prices = list(df_raw['price_range'])\n",
    "new_prices = []\n",
    "\n",
    "for price in prices:\n",
    "    if price == 1:\n",
    "        new_prices.append('cheap')\n",
    "    elif price == 2:\n",
    "        new_prices.append('normal')\n",
    "    elif price == 3:\n",
    "        new_prices.append('expensive')\n",
    "    else:\n",
    "        new_prices.append('gourmet')\n",
    "\n",
    "df_raw['price_type'] = new_prices\n",
    "\n",
    "df_raw.sample(1)"
   ]
  },
  {
   "attachments": {},
   "cell_type": "markdown",
   "metadata": {},
   "source": [
    "### Keeping main cuisine"
   ]
  },
  {
   "cell_type": "code",
   "execution_count": 14,
   "metadata": {},
   "outputs": [
    {
     "data": {
      "text/plain": [
       "0               Italian\n",
       "2              European\n",
       "3              Filipino\n",
       "4              American\n",
       "5              Filipino\n",
       "             ...       \n",
       "7522            Italian\n",
       "7523          Fast Food\n",
       "7524    Restaurant Cafe\n",
       "7525          Home-made\n",
       "7526    Restaurant Cafe\n",
       "Name: cuisines, Length: 6929, dtype: object"
      ]
     },
     "execution_count": 14,
     "metadata": {},
     "output_type": "execute_result"
    }
   ],
   "source": [
    "df_raw['cuisines'] = df_raw.loc[:,'cuisines'].apply(lambda x: x.split(',')[0])\n",
    "df_raw['cuisines']\n"
   ]
  },
  {
   "cell_type": "code",
   "execution_count": 15,
   "metadata": {},
   "outputs": [
    {
     "data": {
      "text/plain": [
       "array(['Botswana Pula(P)', 'Brazilian Real(R$)', 'Dollar($)',\n",
       "       'Emirati Diram(AED)', 'Indian Rupees(Rs.)',\n",
       "       'Indonesian Rupiah(IDR)', 'NewZealand($)', 'Pounds(£)',\n",
       "       'Qatari Rial(QR)', 'Rand(R)', 'Sri Lankan Rupee(LKR)',\n",
       "       'Turkish Lira(TL)'], dtype=object)"
      ]
     },
     "execution_count": 15,
     "metadata": {},
     "output_type": "execute_result"
    }
   ],
   "source": [
    "df_raw['currency'].unique()"
   ]
  },
  {
   "cell_type": "code",
   "execution_count": 16,
   "metadata": {},
   "outputs": [
    {
     "data": {
      "text/plain": [
       "array(['Philippines', 'Brazil', 'Australia', 'United States of America',\n",
       "       'Canada', 'Singapure', 'United Arab Emirates', 'India',\n",
       "       'Indonesia', 'New Zeland', 'England', 'Qatar', 'South Africa',\n",
       "       'Sri Lanka', 'Turkey'], dtype=object)"
      ]
     },
     "execution_count": 16,
     "metadata": {},
     "output_type": "execute_result"
    }
   ],
   "source": [
    "df_raw['country'].unique()"
   ]
  },
  {
   "cell_type": "code",
   "execution_count": 17,
   "metadata": {},
   "outputs": [
    {
     "data": {
      "application/vnd.plotly.v1+json": {
       "config": {
        "plotlyServerURL": "https://plot.ly"
       },
       "data": [
        {
         "alignmentgroup": "True",
         "hovertemplate": "city=Las Piñas City<br>restaurant_name=%{x}<br>average_cost_for_two=%{y}<extra></extra>",
         "legendgroup": "Las Piñas City",
         "marker": {
          "color": "#636efa",
          "pattern": {
           "shape": ""
          }
         },
         "name": "Las Piñas City",
         "offsetgroup": "Las Piñas City",
         "orientation": "v",
         "showlegend": true,
         "textposition": "auto",
         "type": "bar",
         "x": [
          "Mama Lou's Italian Kitchen"
         ],
         "xaxis": "x",
         "y": [
          1100
         ],
         "yaxis": "y"
        },
        {
         "alignmentgroup": "True",
         "hovertemplate": "city=Makati City<br>restaurant_name=%{x}<br>average_cost_for_two=%{y}<extra></extra>",
         "legendgroup": "Makati City",
         "marker": {
          "color": "#EF553B",
          "pattern": {
           "shape": ""
          }
         },
         "name": "Makati City",
         "offsetgroup": "Makati City",
         "orientation": "v",
         "showlegend": true,
         "textposition": "auto",
         "type": "bar",
         "x": [
          "Blackbird",
          "Banapple",
          "Bad Bird",
          "Manam",
          "Soban K-Town Grill",
          "Bluesmith Coffee & Kitchen",
          "Motorino Pizzeria Napoletana",
          "Shi Lin",
          "Nikkei",
          "Izakaya Kikufuji",
          "Kermit Manila",
          "Filling Station",
          "Ooma",
          "Nikkei",
          "Single Origin",
          "Mendokoro Ramenba",
          "Wildflour Cafe + Bakery"
         ],
         "xaxis": "x",
         "y": [
          3100,
          800,
          700,
          700,
          1300,
          700,
          1000,
          1000,
          1600,
          1200,
          1500,
          1600,
          1500,
          1600,
          1450,
          1000,
          1500
         ],
         "yaxis": "y"
        },
        {
         "alignmentgroup": "True",
         "hovertemplate": "city=Mandaluyong City<br>restaurant_name=%{x}<br>average_cost_for_two=%{y}<extra></extra>",
         "legendgroup": "Mandaluyong City",
         "marker": {
          "color": "#00cc96",
          "pattern": {
           "shape": ""
          }
         },
         "name": "Mandaluyong City",
         "offsetgroup": "Mandaluyong City",
         "orientation": "v",
         "showlegend": true,
         "textposition": "auto",
         "type": "bar",
         "x": [
          "Din Tai Fung",
          "Ippudo",
          "Ooma",
          "Sambo Kojin",
          "Sunnies Cafe",
          "Bad Bird",
          "Chelsea Kitchen",
          "Nikkei",
          "Vanderlust Bistro",
          "Wildflour Cafe + Bakery"
         ],
         "xaxis": "x",
         "y": [
          1000,
          1200,
          1500,
          1776,
          700,
          700,
          1100,
          1600,
          1200,
          1500
         ],
         "yaxis": "y"
        },
        {
         "alignmentgroup": "True",
         "hovertemplate": "city=Manila<br>restaurant_name=%{x}<br>average_cost_for_two=%{y}<extra></extra>",
         "legendgroup": "Manila",
         "marker": {
          "color": "#ab63fa",
          "pattern": {
           "shape": ""
          }
         },
         "name": "Manila",
         "offsetgroup": "Manila",
         "orientation": "v",
         "showlegend": true,
         "textposition": "auto",
         "type": "bar",
         "x": [
          "Wai Ying Fastfood",
          "Soban K-Town Grill"
         ],
         "xaxis": "x",
         "y": [
          600,
          1300
         ],
         "yaxis": "y"
        },
        {
         "alignmentgroup": "True",
         "hovertemplate": "city=Marikina City<br>restaurant_name=%{x}<br>average_cost_for_two=%{y}<extra></extra>",
         "legendgroup": "Marikina City",
         "marker": {
          "color": "#FFA15A",
          "pattern": {
           "shape": ""
          }
         },
         "name": "Marikina City",
         "offsetgroup": "Marikina City",
         "orientation": "v",
         "showlegend": true,
         "textposition": "auto",
         "type": "bar",
         "x": [
          "Rustic Mornings by Isabelo"
         ],
         "xaxis": "x",
         "y": [
          1200
         ],
         "yaxis": "y"
        },
        {
         "alignmentgroup": "True",
         "hovertemplate": "city=Muntinlupa City<br>restaurant_name=%{x}<br>average_cost_for_two=%{y}<extra></extra>",
         "legendgroup": "Muntinlupa City",
         "marker": {
          "color": "#19d3f3",
          "pattern": {
           "shape": ""
          }
         },
         "name": "Muntinlupa City",
         "offsetgroup": "Muntinlupa City",
         "orientation": "v",
         "showlegend": true,
         "textposition": "auto",
         "type": "bar",
         "x": [
          "Ramen Yushoken"
         ],
         "xaxis": "x",
         "y": [
          800
         ],
         "yaxis": "y"
        },
        {
         "alignmentgroup": "True",
         "hovertemplate": "city=Pasay City<br>restaurant_name=%{x}<br>average_cost_for_two=%{y}<extra></extra>",
         "legendgroup": "Pasay City",
         "marker": {
          "color": "#FF6692",
          "pattern": {
           "shape": ""
          }
         },
         "name": "Pasay City",
         "offsetgroup": "Pasay City",
         "orientation": "v",
         "showlegend": true,
         "textposition": "auto",
         "type": "bar",
         "x": [
          "Vikings",
          "Spiral - Sofitel Philippine Plaza Manila"
         ],
         "xaxis": "x",
         "y": [
          2000,
          6000
         ],
         "yaxis": "y"
        },
        {
         "alignmentgroup": "True",
         "hovertemplate": "city=Pasig City<br>restaurant_name=%{x}<br>average_cost_for_two=%{y}<extra></extra>",
         "legendgroup": "Pasig City",
         "marker": {
          "color": "#B6E880",
          "pattern": {
           "shape": ""
          }
         },
         "name": "Pasig City",
         "offsetgroup": "Pasig City",
         "orientation": "v",
         "showlegend": true,
         "textposition": "auto",
         "type": "bar",
         "x": [
          "Mama Lou's Italian Kitchen",
          "Sibyullee",
          "Frankie's New York Buffalo Wings",
          "Locavore",
          "Silantro Fil-Mex",
          "Charlie's Grind & Grill"
         ],
         "xaxis": "x",
         "y": [
          1100,
          1800,
          850,
          1100,
          800,
          1100
         ],
         "yaxis": "y"
        },
        {
         "alignmentgroup": "True",
         "hovertemplate": "city=Quezon City<br>restaurant_name=%{x}<br>average_cost_for_two=%{y}<extra></extra>",
         "legendgroup": "Quezon City",
         "marker": {
          "color": "#FF97FF",
          "pattern": {
           "shape": ""
          }
         },
         "name": "Quezon City",
         "offsetgroup": "Quezon City",
         "orientation": "v",
         "showlegend": true,
         "textposition": "auto",
         "type": "bar",
         "x": [
          "Mama Lou's Italian Kitchen",
          "Bugis Singapore Street Food",
          "Tra Vinh",
          "Soban K-Town Grill",
          "Señor Pollo",
          "Banapple",
          "Blue Rocket Cafe + Kitchen",
          "Soru Izakaya",
          "Banapple",
          "Friuli Trattoria",
          "Leann's Tea House",
          "Lola Cafe",
          "The Frazzled Cook",
          "Romantic Baboy",
          "Vanderlust Bistro",
          "Mama Lou's Italian Kitchen",
          "Silantro Fil-Mex",
          "The Fat Seed Cafe + Roastery"
         ],
         "xaxis": "x",
         "y": [
          1100,
          500,
          600,
          1300,
          800,
          800,
          800,
          1200,
          800,
          400,
          700,
          1200,
          1300,
          1200,
          1200,
          1100,
          800,
          1000
         ],
         "yaxis": "y"
        },
        {
         "alignmentgroup": "True",
         "hovertemplate": "city=San Juan City<br>restaurant_name=%{x}<br>average_cost_for_two=%{y}<extra></extra>",
         "legendgroup": "San Juan City",
         "marker": {
          "color": "#FECB52",
          "pattern": {
           "shape": ""
          }
         },
         "name": "San Juan City",
         "offsetgroup": "San Juan City",
         "orientation": "v",
         "showlegend": true,
         "textposition": "auto",
         "type": "bar",
         "x": [
          "Ebi 10"
         ],
         "xaxis": "x",
         "y": [
          700
         ],
         "yaxis": "y"
        },
        {
         "alignmentgroup": "True",
         "hovertemplate": "city=Tagaytay City<br>restaurant_name=%{x}<br>average_cost_for_two=%{y}<extra></extra>",
         "legendgroup": "Tagaytay City",
         "marker": {
          "color": "#636efa",
          "pattern": {
           "shape": ""
          }
         },
         "name": "Tagaytay City",
         "offsetgroup": "Tagaytay City",
         "orientation": "v",
         "showlegend": true,
         "textposition": "auto",
         "type": "bar",
         "x": [
          "Balay Dako",
          "Breakfast at Antonio's",
          "Charito by Bag of Beans"
         ],
         "xaxis": "x",
         "y": [
          1200,
          1300,
          1500
         ],
         "yaxis": "y"
        },
        {
         "alignmentgroup": "True",
         "hovertemplate": "city=Taguig City<br>restaurant_name=%{x}<br>average_cost_for_two=%{y}<extra></extra>",
         "legendgroup": "Taguig City",
         "marker": {
          "color": "#EF553B",
          "pattern": {
           "shape": ""
          }
         },
         "name": "Taguig City",
         "offsetgroup": "Taguig City",
         "orientation": "v",
         "showlegend": true,
         "textposition": "auto",
         "type": "bar",
         "x": [
          "Genki Sushi",
          "Ooma",
          "Sariwon",
          "Va Bene Pasta Deli",
          "Single Origin",
          "Mendokoro Ramenba",
          "Nomi - Modern Japanese Cafe",
          "Sunnies Cafe",
          "Soru Izakaya",
          "Banapple",
          "Wildflour Restaurant",
          "Soban K-Town Grill",
          "Saboten",
          "NIU by Vikings",
          "Providore",
          "Rackshack",
          "PizzaExpress",
          "Mamma Mia"
         ],
         "xaxis": "x",
         "y": [
          700,
          1500,
          1000,
          1200,
          1450,
          1000,
          800,
          700,
          1400,
          800,
          1500,
          1300,
          1500,
          3000,
          1400,
          800,
          1200,
          1200
         ],
         "yaxis": "y"
        }
       ],
       "layout": {
        "barmode": "relative",
        "legend": {
         "title": {
          "text": "city"
         },
         "tracegroupgap": 0
        },
        "margin": {
         "t": 60
        },
        "template": {
         "data": {
          "bar": [
           {
            "error_x": {
             "color": "#2a3f5f"
            },
            "error_y": {
             "color": "#2a3f5f"
            },
            "marker": {
             "line": {
              "color": "#E5ECF6",
              "width": 0.5
             },
             "pattern": {
              "fillmode": "overlay",
              "size": 10,
              "solidity": 0.2
             }
            },
            "type": "bar"
           }
          ],
          "barpolar": [
           {
            "marker": {
             "line": {
              "color": "#E5ECF6",
              "width": 0.5
             },
             "pattern": {
              "fillmode": "overlay",
              "size": 10,
              "solidity": 0.2
             }
            },
            "type": "barpolar"
           }
          ],
          "carpet": [
           {
            "aaxis": {
             "endlinecolor": "#2a3f5f",
             "gridcolor": "white",
             "linecolor": "white",
             "minorgridcolor": "white",
             "startlinecolor": "#2a3f5f"
            },
            "baxis": {
             "endlinecolor": "#2a3f5f",
             "gridcolor": "white",
             "linecolor": "white",
             "minorgridcolor": "white",
             "startlinecolor": "#2a3f5f"
            },
            "type": "carpet"
           }
          ],
          "choropleth": [
           {
            "colorbar": {
             "outlinewidth": 0,
             "ticks": ""
            },
            "type": "choropleth"
           }
          ],
          "contour": [
           {
            "colorbar": {
             "outlinewidth": 0,
             "ticks": ""
            },
            "colorscale": [
             [
              0,
              "#0d0887"
             ],
             [
              0.1111111111111111,
              "#46039f"
             ],
             [
              0.2222222222222222,
              "#7201a8"
             ],
             [
              0.3333333333333333,
              "#9c179e"
             ],
             [
              0.4444444444444444,
              "#bd3786"
             ],
             [
              0.5555555555555556,
              "#d8576b"
             ],
             [
              0.6666666666666666,
              "#ed7953"
             ],
             [
              0.7777777777777778,
              "#fb9f3a"
             ],
             [
              0.8888888888888888,
              "#fdca26"
             ],
             [
              1,
              "#f0f921"
             ]
            ],
            "type": "contour"
           }
          ],
          "contourcarpet": [
           {
            "colorbar": {
             "outlinewidth": 0,
             "ticks": ""
            },
            "type": "contourcarpet"
           }
          ],
          "heatmap": [
           {
            "colorbar": {
             "outlinewidth": 0,
             "ticks": ""
            },
            "colorscale": [
             [
              0,
              "#0d0887"
             ],
             [
              0.1111111111111111,
              "#46039f"
             ],
             [
              0.2222222222222222,
              "#7201a8"
             ],
             [
              0.3333333333333333,
              "#9c179e"
             ],
             [
              0.4444444444444444,
              "#bd3786"
             ],
             [
              0.5555555555555556,
              "#d8576b"
             ],
             [
              0.6666666666666666,
              "#ed7953"
             ],
             [
              0.7777777777777778,
              "#fb9f3a"
             ],
             [
              0.8888888888888888,
              "#fdca26"
             ],
             [
              1,
              "#f0f921"
             ]
            ],
            "type": "heatmap"
           }
          ],
          "heatmapgl": [
           {
            "colorbar": {
             "outlinewidth": 0,
             "ticks": ""
            },
            "colorscale": [
             [
              0,
              "#0d0887"
             ],
             [
              0.1111111111111111,
              "#46039f"
             ],
             [
              0.2222222222222222,
              "#7201a8"
             ],
             [
              0.3333333333333333,
              "#9c179e"
             ],
             [
              0.4444444444444444,
              "#bd3786"
             ],
             [
              0.5555555555555556,
              "#d8576b"
             ],
             [
              0.6666666666666666,
              "#ed7953"
             ],
             [
              0.7777777777777778,
              "#fb9f3a"
             ],
             [
              0.8888888888888888,
              "#fdca26"
             ],
             [
              1,
              "#f0f921"
             ]
            ],
            "type": "heatmapgl"
           }
          ],
          "histogram": [
           {
            "marker": {
             "pattern": {
              "fillmode": "overlay",
              "size": 10,
              "solidity": 0.2
             }
            },
            "type": "histogram"
           }
          ],
          "histogram2d": [
           {
            "colorbar": {
             "outlinewidth": 0,
             "ticks": ""
            },
            "colorscale": [
             [
              0,
              "#0d0887"
             ],
             [
              0.1111111111111111,
              "#46039f"
             ],
             [
              0.2222222222222222,
              "#7201a8"
             ],
             [
              0.3333333333333333,
              "#9c179e"
             ],
             [
              0.4444444444444444,
              "#bd3786"
             ],
             [
              0.5555555555555556,
              "#d8576b"
             ],
             [
              0.6666666666666666,
              "#ed7953"
             ],
             [
              0.7777777777777778,
              "#fb9f3a"
             ],
             [
              0.8888888888888888,
              "#fdca26"
             ],
             [
              1,
              "#f0f921"
             ]
            ],
            "type": "histogram2d"
           }
          ],
          "histogram2dcontour": [
           {
            "colorbar": {
             "outlinewidth": 0,
             "ticks": ""
            },
            "colorscale": [
             [
              0,
              "#0d0887"
             ],
             [
              0.1111111111111111,
              "#46039f"
             ],
             [
              0.2222222222222222,
              "#7201a8"
             ],
             [
              0.3333333333333333,
              "#9c179e"
             ],
             [
              0.4444444444444444,
              "#bd3786"
             ],
             [
              0.5555555555555556,
              "#d8576b"
             ],
             [
              0.6666666666666666,
              "#ed7953"
             ],
             [
              0.7777777777777778,
              "#fb9f3a"
             ],
             [
              0.8888888888888888,
              "#fdca26"
             ],
             [
              1,
              "#f0f921"
             ]
            ],
            "type": "histogram2dcontour"
           }
          ],
          "mesh3d": [
           {
            "colorbar": {
             "outlinewidth": 0,
             "ticks": ""
            },
            "type": "mesh3d"
           }
          ],
          "parcoords": [
           {
            "line": {
             "colorbar": {
              "outlinewidth": 0,
              "ticks": ""
             }
            },
            "type": "parcoords"
           }
          ],
          "pie": [
           {
            "automargin": true,
            "type": "pie"
           }
          ],
          "scatter": [
           {
            "fillpattern": {
             "fillmode": "overlay",
             "size": 10,
             "solidity": 0.2
            },
            "type": "scatter"
           }
          ],
          "scatter3d": [
           {
            "line": {
             "colorbar": {
              "outlinewidth": 0,
              "ticks": ""
             }
            },
            "marker": {
             "colorbar": {
              "outlinewidth": 0,
              "ticks": ""
             }
            },
            "type": "scatter3d"
           }
          ],
          "scattercarpet": [
           {
            "marker": {
             "colorbar": {
              "outlinewidth": 0,
              "ticks": ""
             }
            },
            "type": "scattercarpet"
           }
          ],
          "scattergeo": [
           {
            "marker": {
             "colorbar": {
              "outlinewidth": 0,
              "ticks": ""
             }
            },
            "type": "scattergeo"
           }
          ],
          "scattergl": [
           {
            "marker": {
             "colorbar": {
              "outlinewidth": 0,
              "ticks": ""
             }
            },
            "type": "scattergl"
           }
          ],
          "scattermapbox": [
           {
            "marker": {
             "colorbar": {
              "outlinewidth": 0,
              "ticks": ""
             }
            },
            "type": "scattermapbox"
           }
          ],
          "scatterpolar": [
           {
            "marker": {
             "colorbar": {
              "outlinewidth": 0,
              "ticks": ""
             }
            },
            "type": "scatterpolar"
           }
          ],
          "scatterpolargl": [
           {
            "marker": {
             "colorbar": {
              "outlinewidth": 0,
              "ticks": ""
             }
            },
            "type": "scatterpolargl"
           }
          ],
          "scatterternary": [
           {
            "marker": {
             "colorbar": {
              "outlinewidth": 0,
              "ticks": ""
             }
            },
            "type": "scatterternary"
           }
          ],
          "surface": [
           {
            "colorbar": {
             "outlinewidth": 0,
             "ticks": ""
            },
            "colorscale": [
             [
              0,
              "#0d0887"
             ],
             [
              0.1111111111111111,
              "#46039f"
             ],
             [
              0.2222222222222222,
              "#7201a8"
             ],
             [
              0.3333333333333333,
              "#9c179e"
             ],
             [
              0.4444444444444444,
              "#bd3786"
             ],
             [
              0.5555555555555556,
              "#d8576b"
             ],
             [
              0.6666666666666666,
              "#ed7953"
             ],
             [
              0.7777777777777778,
              "#fb9f3a"
             ],
             [
              0.8888888888888888,
              "#fdca26"
             ],
             [
              1,
              "#f0f921"
             ]
            ],
            "type": "surface"
           }
          ],
          "table": [
           {
            "cells": {
             "fill": {
              "color": "#EBF0F8"
             },
             "line": {
              "color": "white"
             }
            },
            "header": {
             "fill": {
              "color": "#C8D4E3"
             },
             "line": {
              "color": "white"
             }
            },
            "type": "table"
           }
          ]
         },
         "layout": {
          "annotationdefaults": {
           "arrowcolor": "#2a3f5f",
           "arrowhead": 0,
           "arrowwidth": 1
          },
          "autotypenumbers": "strict",
          "coloraxis": {
           "colorbar": {
            "outlinewidth": 0,
            "ticks": ""
           }
          },
          "colorscale": {
           "diverging": [
            [
             0,
             "#8e0152"
            ],
            [
             0.1,
             "#c51b7d"
            ],
            [
             0.2,
             "#de77ae"
            ],
            [
             0.3,
             "#f1b6da"
            ],
            [
             0.4,
             "#fde0ef"
            ],
            [
             0.5,
             "#f7f7f7"
            ],
            [
             0.6,
             "#e6f5d0"
            ],
            [
             0.7,
             "#b8e186"
            ],
            [
             0.8,
             "#7fbc41"
            ],
            [
             0.9,
             "#4d9221"
            ],
            [
             1,
             "#276419"
            ]
           ],
           "sequential": [
            [
             0,
             "#0d0887"
            ],
            [
             0.1111111111111111,
             "#46039f"
            ],
            [
             0.2222222222222222,
             "#7201a8"
            ],
            [
             0.3333333333333333,
             "#9c179e"
            ],
            [
             0.4444444444444444,
             "#bd3786"
            ],
            [
             0.5555555555555556,
             "#d8576b"
            ],
            [
             0.6666666666666666,
             "#ed7953"
            ],
            [
             0.7777777777777778,
             "#fb9f3a"
            ],
            [
             0.8888888888888888,
             "#fdca26"
            ],
            [
             1,
             "#f0f921"
            ]
           ],
           "sequentialminus": [
            [
             0,
             "#0d0887"
            ],
            [
             0.1111111111111111,
             "#46039f"
            ],
            [
             0.2222222222222222,
             "#7201a8"
            ],
            [
             0.3333333333333333,
             "#9c179e"
            ],
            [
             0.4444444444444444,
             "#bd3786"
            ],
            [
             0.5555555555555556,
             "#d8576b"
            ],
            [
             0.6666666666666666,
             "#ed7953"
            ],
            [
             0.7777777777777778,
             "#fb9f3a"
            ],
            [
             0.8888888888888888,
             "#fdca26"
            ],
            [
             1,
             "#f0f921"
            ]
           ]
          },
          "colorway": [
           "#636efa",
           "#EF553B",
           "#00cc96",
           "#ab63fa",
           "#FFA15A",
           "#19d3f3",
           "#FF6692",
           "#B6E880",
           "#FF97FF",
           "#FECB52"
          ],
          "font": {
           "color": "#2a3f5f"
          },
          "geo": {
           "bgcolor": "white",
           "lakecolor": "white",
           "landcolor": "#E5ECF6",
           "showlakes": true,
           "showland": true,
           "subunitcolor": "white"
          },
          "hoverlabel": {
           "align": "left"
          },
          "hovermode": "closest",
          "mapbox": {
           "style": "light"
          },
          "paper_bgcolor": "white",
          "plot_bgcolor": "#E5ECF6",
          "polar": {
           "angularaxis": {
            "gridcolor": "white",
            "linecolor": "white",
            "ticks": ""
           },
           "bgcolor": "#E5ECF6",
           "radialaxis": {
            "gridcolor": "white",
            "linecolor": "white",
            "ticks": ""
           }
          },
          "scene": {
           "xaxis": {
            "backgroundcolor": "#E5ECF6",
            "gridcolor": "white",
            "gridwidth": 2,
            "linecolor": "white",
            "showbackground": true,
            "ticks": "",
            "zerolinecolor": "white"
           },
           "yaxis": {
            "backgroundcolor": "#E5ECF6",
            "gridcolor": "white",
            "gridwidth": 2,
            "linecolor": "white",
            "showbackground": true,
            "ticks": "",
            "zerolinecolor": "white"
           },
           "zaxis": {
            "backgroundcolor": "#E5ECF6",
            "gridcolor": "white",
            "gridwidth": 2,
            "linecolor": "white",
            "showbackground": true,
            "ticks": "",
            "zerolinecolor": "white"
           }
          },
          "shapedefaults": {
           "line": {
            "color": "#2a3f5f"
           }
          },
          "ternary": {
           "aaxis": {
            "gridcolor": "white",
            "linecolor": "white",
            "ticks": ""
           },
           "baxis": {
            "gridcolor": "white",
            "linecolor": "white",
            "ticks": ""
           },
           "bgcolor": "#E5ECF6",
           "caxis": {
            "gridcolor": "white",
            "linecolor": "white",
            "ticks": ""
           }
          },
          "title": {
           "x": 0.05
          },
          "xaxis": {
           "automargin": true,
           "gridcolor": "white",
           "linecolor": "white",
           "ticks": "",
           "title": {
            "standoff": 15
           },
           "zerolinecolor": "white",
           "zerolinewidth": 2
          },
          "yaxis": {
           "automargin": true,
           "gridcolor": "white",
           "linecolor": "white",
           "ticks": "",
           "title": {
            "standoff": 15
           },
           "zerolinecolor": "white",
           "zerolinewidth": 2
          }
         }
        },
        "xaxis": {
         "anchor": "y",
         "domain": [
          0,
          1
         ],
         "title": {
          "text": "restaurant_name"
         }
        },
        "yaxis": {
         "anchor": "x",
         "domain": [
          0,
          1
         ],
         "title": {
          "text": "average_cost_for_two"
         }
        }
       }
      }
     },
     "metadata": {},
     "output_type": "display_data"
    }
   ],
   "source": [
    "import plotly.express as px\n",
    "df_aux = df_raw.loc[df_raw['country'] == 'Philippines',['city','restaurant_name', 'average_cost_for_two']]\n",
    "fig = px.bar(df_aux, x='restaurant_name', y='average_cost_for_two', color='city')\n",
    "fig.show()"
   ]
  },
  {
   "cell_type": "code",
   "execution_count": 21,
   "metadata": {},
   "outputs": [
    {
     "data": {
      "text/plain": [
       "15"
      ]
     },
     "execution_count": 21,
     "metadata": {},
     "output_type": "execute_result"
    }
   ],
   "source": [
    "\n",
    "x = len(df_raw['country'].unique())\n",
    "\n",
    "x"
   ]
  },
  {
   "cell_type": "code",
   "execution_count": 26,
   "metadata": {},
   "outputs": [
    {
     "data": {
      "text/html": [
       "<div>\n",
       "<style scoped>\n",
       "    .dataframe tbody tr th:only-of-type {\n",
       "        vertical-align: middle;\n",
       "    }\n",
       "\n",
       "    .dataframe tbody tr th {\n",
       "        vertical-align: top;\n",
       "    }\n",
       "\n",
       "    .dataframe thead th {\n",
       "        text-align: right;\n",
       "    }\n",
       "</style>\n",
       "<table border=\"1\" class=\"dataframe\">\n",
       "  <thead>\n",
       "    <tr style=\"text-align: right;\">\n",
       "      <th></th>\n",
       "      <th>restaurant_name</th>\n",
       "      <th>country</th>\n",
       "      <th>average_cost_for_two</th>\n",
       "      <th>currency</th>\n",
       "    </tr>\n",
       "  </thead>\n",
       "  <tbody>\n",
       "    <tr>\n",
       "      <th>6362</th>\n",
       "      <td>Punjabi Rasoi</td>\n",
       "      <td>England</td>\n",
       "      <td>25</td>\n",
       "      <td>Pounds(£)</td>\n",
       "    </tr>\n",
       "    <tr>\n",
       "      <th>6363</th>\n",
       "      <td>Pepe's Piri Piri</td>\n",
       "      <td>England</td>\n",
       "      <td>10</td>\n",
       "      <td>Pounds(£)</td>\n",
       "    </tr>\n",
       "    <tr>\n",
       "      <th>6365</th>\n",
       "      <td>Cafe Soya</td>\n",
       "      <td>England</td>\n",
       "      <td>30</td>\n",
       "      <td>Pounds(£)</td>\n",
       "    </tr>\n",
       "    <tr>\n",
       "      <th>6366</th>\n",
       "      <td>Las Iguanas</td>\n",
       "      <td>England</td>\n",
       "      <td>30</td>\n",
       "      <td>Pounds(£)</td>\n",
       "    </tr>\n",
       "    <tr>\n",
       "      <th>6367</th>\n",
       "      <td>Ju Ju's Cafe</td>\n",
       "      <td>England</td>\n",
       "      <td>15</td>\n",
       "      <td>Pounds(£)</td>\n",
       "    </tr>\n",
       "    <tr>\n",
       "      <th>...</th>\n",
       "      <td>...</td>\n",
       "      <td>...</td>\n",
       "      <td>...</td>\n",
       "      <td>...</td>\n",
       "    </tr>\n",
       "    <tr>\n",
       "      <th>6792</th>\n",
       "      <td>Mr Cooper's House &amp; Garden - The Midland</td>\n",
       "      <td>England</td>\n",
       "      <td>55</td>\n",
       "      <td>Pounds(£)</td>\n",
       "    </tr>\n",
       "    <tr>\n",
       "      <th>6794</th>\n",
       "      <td>Hard Rock Cafe</td>\n",
       "      <td>England</td>\n",
       "      <td>55</td>\n",
       "      <td>Pounds(£)</td>\n",
       "    </tr>\n",
       "    <tr>\n",
       "      <th>6795</th>\n",
       "      <td>Umezushi</td>\n",
       "      <td>England</td>\n",
       "      <td>40</td>\n",
       "      <td>Pounds(£)</td>\n",
       "    </tr>\n",
       "    <tr>\n",
       "      <th>6796</th>\n",
       "      <td>Pasquale's Italian Restaurant</td>\n",
       "      <td>England</td>\n",
       "      <td>30</td>\n",
       "      <td>Pounds(£)</td>\n",
       "    </tr>\n",
       "    <tr>\n",
       "      <th>6798</th>\n",
       "      <td>Indique</td>\n",
       "      <td>England</td>\n",
       "      <td>0</td>\n",
       "      <td>Pounds(£)</td>\n",
       "    </tr>\n",
       "  </tbody>\n",
       "</table>\n",
       "<p>400 rows × 4 columns</p>\n",
       "</div>"
      ],
      "text/plain": [
       "                               restaurant_name  country  average_cost_for_two   \n",
       "6362                             Punjabi Rasoi  England                    25  \\\n",
       "6363                          Pepe's Piri Piri  England                    10   \n",
       "6365                                 Cafe Soya  England                    30   \n",
       "6366                               Las Iguanas  England                    30   \n",
       "6367                              Ju Ju's Cafe  England                    15   \n",
       "...                                        ...      ...                   ...   \n",
       "6792  Mr Cooper's House & Garden - The Midland  England                    55   \n",
       "6794                            Hard Rock Cafe  England                    55   \n",
       "6795                                  Umezushi  England                    40   \n",
       "6796             Pasquale's Italian Restaurant  England                    30   \n",
       "6798                                   Indique  England                     0   \n",
       "\n",
       "       currency  \n",
       "6362  Pounds(£)  \n",
       "6363  Pounds(£)  \n",
       "6365  Pounds(£)  \n",
       "6366  Pounds(£)  \n",
       "6367  Pounds(£)  \n",
       "...         ...  \n",
       "6792  Pounds(£)  \n",
       "6794  Pounds(£)  \n",
       "6795  Pounds(£)  \n",
       "6796  Pounds(£)  \n",
       "6798  Pounds(£)  \n",
       "\n",
       "[400 rows x 4 columns]"
      ]
     },
     "execution_count": 26,
     "metadata": {},
     "output_type": "execute_result"
    }
   ],
   "source": [
    "dfx = df_raw.loc[df_raw['country'] == 'England', ['restaurant_name', 'country','average_cost_for_two', 'currency']]\n",
    "dfx"
   ]
  }
 ],
 "metadata": {
  "kernelspec": {
   "display_name": "Python 3",
   "language": "python",
   "name": "python3"
  },
  "language_info": {
   "codemirror_mode": {
    "name": "ipython",
    "version": 3
   },
   "file_extension": ".py",
   "mimetype": "text/x-python",
   "name": "python",
   "nbconvert_exporter": "python",
   "pygments_lexer": "ipython3",
   "version": "3.10.11"
  },
  "orig_nbformat": 4
 },
 "nbformat": 4,
 "nbformat_minor": 2
}
